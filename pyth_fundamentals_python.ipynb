{
  "nbformat": 4,
  "nbformat_minor": 0,
  "metadata": {
    "colab": {
      "provenance": [],
      "authorship_tag": "ABX9TyPbVJo1P5as30XUVqH3cpcD"
    },
    "kernelspec": {
      "name": "python3",
      "display_name": "Python 3"
    },
    "language_info": {
      "name": "python"
    }
  },
  "cells": [
    {
      "cell_type": "code",
      "execution_count": null,
      "metadata": {
        "id": "BjJfsUvn_vkz",
        "colab": {
          "base_uri": "https://localhost:8080/"
        },
        "outputId": "26260926-c277-4474-fcfc-0ae88422c36b"
      },
      "outputs": [
        {
          "output_type": "stream",
          "name": "stdout",
          "text": [
            "all my cables\n",
            "burts bees\n"
          ]
        }
      ],
      "source": [
        "#learn to code\n",
        "#step by step\n",
        "# mark out code by putting a hashtag # in front of it.\n",
        "\n",
        "# 'words' \"cookup\"\n",
        "\n",
        "# stack overflow is your best friend.\n",
        "\n",
        "# print = show me something lil bra\n",
        "\n",
        "# variable = storage box, holds the value you want to pull out with print\n",
        "\n",
        "box_8973 = 'all my cables' # string = sentence\n",
        "chapstick = 'burts bees'\n",
        "\n",
        "print(box_8973)\n",
        "print(chapstick)\n",
        "\n"
      ]
    },
    {
      "cell_type": "code",
      "source": [
        "# BOOLEANS - True or false\n",
        "# types of things that are true or false\n",
        "\n",
        "answer = 30 > 4\n",
        "print(answer)"
      ],
      "metadata": {
        "colab": {
          "base_uri": "https://localhost:8080/"
        },
        "id": "BitpAHH9FSCK",
        "outputId": "27a6ac00-e05f-4173-e55a-01da010698a1"
      },
      "execution_count": null,
      "outputs": [
        {
          "output_type": "stream",
          "name": "stdout",
          "text": [
            "True\n"
          ]
        }
      ]
    },
    {
      "cell_type": "code",
      "source": [
        "# numbers in python\n",
        "# 2 types\n",
        "# 1. Integer == whole number no decimals\n",
        "# 2. Float == not a whole number has decimals 45.4, 65.8\n",
        "\n",
        "number = 56.45\n",
        "# turn floats to integers\n",
        "num2 = int(number)\n",
        "print(num2)"
      ],
      "metadata": {
        "colab": {
          "base_uri": "https://localhost:8080/"
        },
        "id": "vBSbe4QqF9p4",
        "outputId": "d65a96dc-8f1b-4dc9-8dc6-583daef0ae5e"
      },
      "execution_count": null,
      "outputs": [
        {
          "output_type": "stream",
          "name": "stdout",
          "text": [
            "<class 'float'>\n"
          ]
        }
      ]
    },
    {
      "cell_type": "code",
      "source": [
        "# counting in python\n",
        "# 0, 1, 2, 3, 4, 5\n",
        "\n",
        "count = 'fun'\n",
        "print(count[0])"
      ],
      "metadata": {
        "colab": {
          "base_uri": "https://localhost:8080/"
        },
        "id": "bFybHt9eH3Hv",
        "outputId": "d1979c84-4ba0-4347-ed93-c36948cb9236"
      },
      "execution_count": null,
      "outputs": [
        {
          "output_type": "stream",
          "name": "stdout",
          "text": [
            "f\n"
          ]
        }
      ]
    },
    {
      "cell_type": "code",
      "source": [
        "# importing things in python / import package\n",
        "# import modules\n",
        "import math\n",
        "\n",
        "# math in python , + - * / **\n",
        "math_box = 34.45 ** 3\n",
        "print(math_box)\n"
      ],
      "metadata": {
        "colab": {
          "base_uri": "https://localhost:8080/"
        },
        "id": "9au5o7-OIsPi",
        "outputId": "edaf8fb7-7ae3-4c0f-b485-f302f53bd723"
      },
      "execution_count": null,
      "outputs": [
        {
          "output_type": "stream",
          "name": "stdout",
          "text": [
            "40885.34612500001\n"
          ]
        }
      ]
    },
    {
      "cell_type": "code",
      "source": [
        "# sentences = strings\n",
        "sentence = \"hey this is my sentence\"\n",
        "print(sentence)\n",
        "\n",
        "#slicing sentences\n",
        "half = sentence[10:]\n",
        "print(half)"
      ],
      "metadata": {
        "colab": {
          "base_uri": "https://localhost:8080/"
        },
        "id": "XMG4ValXKZek",
        "outputId": "71eb13c6-ec76-439e-e869-1c099e7775c4"
      },
      "execution_count": null,
      "outputs": [
        {
          "output_type": "stream",
          "name": "stdout",
          "text": [
            "hey this is my sentence\n",
            "s my sentence\n"
          ]
        }
      ]
    },
    {
      "cell_type": "code",
      "source": [
        "# variables = boxes to store stuff\n",
        "\n",
        "#lists = list of things to store\n",
        "numb = 56\n",
        "sentence = \"this is a string\"\n",
        "\n",
        "#lists\n",
        "mylist = [numb, sentence, 'hey, hey', 67.34]\n",
        "# command + shift + <\n",
        "# print(mylist[3]) # = command + /\n",
        "\n",
        "# dictionary - key & value\n",
        "my_dictionary = {'name': 'moon', 'age': '30',\n",
        "                'fav_food':'pizza', 'location':'earth'}\n",
        "print(my_dictionary['age'])"
      ],
      "metadata": {
        "colab": {
          "base_uri": "https://localhost:8080/"
        },
        "id": "pRuJeDi6LKJu",
        "outputId": "41336c7e-4906-4ebb-d228-4c255246da5d"
      },
      "execution_count": null,
      "outputs": [
        {
          "output_type": "stream",
          "name": "stdout",
          "text": [
            "30\n"
          ]
        }
      ]
    },
    {
      "cell_type": "code",
      "source": [
        "\n",
        "sentence_1 = 'hey whats up'\n",
        "sent_2 = 'yo yo yo'\n",
        "number1 = 45 # integer\n",
        "number2 = 56.56 # float\n",
        "sent_3 = 'hello moto'\n",
        "\n",
        "# if, elif, else\n",
        "# if statement = do something if true\n",
        "# or else (elif) = do something else\n",
        "# or else (else) = final thing to do is this\n",
        "\n",
        "if number1 > number2: # false so it will go on the else if\n",
        "  print(sentence_1)\n",
        "elif number1 == number2: # == when checking t/f, != (not equal) , >= (great) , <=(less)\n",
        "  print(sent_2)\n",
        "elif number1 >= number2:\n",
        "  print(sent_3)\n",
        "else: # fail safe, do this if all else false\n",
        "  print('this is a fail safe')\n",
        "# if its saturday == do chores\n",
        "\n",
        "# chores - clean bathroom, kitchen, bedroom\n",
        "\n",
        "\n"
      ],
      "metadata": {
        "colab": {
          "base_uri": "https://localhost:8080/"
        },
        "id": "0j1wF0QmOurB",
        "outputId": "6129f38d-4c24-4bac-e206-8345cb1002c8"
      },
      "execution_count": null,
      "outputs": [
        {
          "output_type": "stream",
          "name": "stdout",
          "text": [
            "this is a fail safe\n"
          ]
        }
      ]
    },
    {
      "cell_type": "code",
      "source": [
        "# indexing - getting things out of your list\n",
        "mylist = [numb, sentence, 'hey, hey', 67.34]\n",
        "print(mylist[-1])\n",
        "\n",
        "#going fwd 0,1,2,3\n",
        "#going bck -1,-2,-3"
      ],
      "metadata": {
        "colab": {
          "base_uri": "https://localhost:8080/"
        },
        "id": "2cT3lbOKT5oL",
        "outputId": "9646e499-8cf4-44d2-c0f1-313f9be786ae"
      },
      "execution_count": null,
      "outputs": [
        {
          "output_type": "stream",
          "name": "stdout",
          "text": [
            "67.34\n"
          ]
        }
      ]
    },
    {
      "cell_type": "code",
      "source": [
        "# loops\n",
        "# while loops and for loops\n",
        "# while loops - 2 hours to play vid games , your in a while loop until the 2hrs is up\n",
        "\n",
        "hours = 2\n",
        "\n",
        "# while loops - loop until false.\n",
        "# while hours < 2.1:\n",
        "#   print('play video games')\n",
        "#   hours = (hours + .5)\n",
        "\n",
        "# for loops - loop until a condition is fulfilled\n",
        "listy = [23.45, 45, 'hey there']\n",
        "\n",
        "#when using for loops the first word after for can be anything\n",
        "# for zzz in listy:\n",
        "#   print(zzz)\n",
        "\n",
        "\n",
        "for x in range(10):\n",
        "  print(x)"
      ],
      "metadata": {
        "colab": {
          "base_uri": "https://localhost:8080/"
        },
        "id": "zVsXUTXGUiTG",
        "outputId": "12c79aa7-7ae7-4114-f8d6-3f0a7c484214"
      },
      "execution_count": null,
      "outputs": [
        {
          "output_type": "stream",
          "name": "stdout",
          "text": [
            "23.45\n",
            "45\n",
            "hey there\n",
            "0\n",
            "1\n",
            "2\n",
            "3\n",
            "4\n",
            "5\n",
            "6\n",
            "7\n",
            "8\n",
            "9\n"
          ]
        }
      ]
    },
    {
      "cell_type": "code",
      "source": [
        "# functions - variables, lists, dictionaries\n",
        "# 20 variables, 6 lists, 10 dicitonaries\n",
        "\n",
        "#use def for a function then the name of func\n",
        "def storage_unit():\n",
        "\n",
        "  shoes = 'jordans'\n",
        "  game = 'zelda'\n",
        "  age = 27\n",
        "  gpa = 3.29\n",
        "\n",
        "  mylist = [shoes, game, age, 'hey there']\n",
        "\n",
        "\n",
        "  return shoes, mylist\n",
        "# returning allows use in other parts of the code\n",
        "\n",
        "# mylist = storage_unit()[1]\n",
        "# print(mylist[-2])\n",
        "\n",
        "# 1:58:54 in Moon dev vid.\n",
        "\n"
      ],
      "metadata": {
        "colab": {
          "base_uri": "https://localhost:8080/"
        },
        "id": "ysA5X9K5bgR2",
        "outputId": "60417b35-94ef-4edd-eaf5-da292ed2915f"
      },
      "execution_count": null,
      "outputs": [
        {
          "output_type": "stream",
          "name": "stdout",
          "text": [
            "27\n"
          ]
        }
      ]
    },
    {
      "cell_type": "code",
      "source": [
        "# pass in information into a function\n",
        "\n",
        "torta = 'toyota'\n",
        "\n",
        "# function\n",
        "def passing(torta=torta): # if argument has = then theres a default.\n",
        "\n",
        "\n",
        "  num = 67\n",
        "\n",
        "  print(torta)\n",
        "\n",
        "passing() # goes default\n",
        "# if u pass in it will concatenate"
      ],
      "metadata": {
        "id": "RC-enkUXdRb7",
        "colab": {
          "base_uri": "https://localhost:8080/"
        },
        "outputId": "5a5d218b-4a40-4a98-de30-a7a614507af0"
      },
      "execution_count": 9,
      "outputs": [
        {
          "output_type": "stream",
          "name": "stdout",
          "text": [
            "toyota\n"
          ]
        }
      ]
    },
    {
      "cell_type": "code",
      "source": [
        "# google sheets. excel == PANDAS\n",
        "# package/module/\n",
        "\n",
        "import pandas as pd # get app called pandas\n",
        "# and let me know use it by typing pd\n",
        "\n",
        "df = pd.read_csv('/content/SOLANA.csv')\n",
        "print(df)\n",
        "\n",
        "# time series data - is just data over the course of time\n",
        "# data that changes every day\n",
        "# weather, sporting events, ticket sales, advertising spend, clicks, funnels\n",
        "\n"
      ],
      "metadata": {
        "colab": {
          "base_uri": "https://localhost:8080/"
        },
        "id": "lTyl5S2-4Lr1",
        "outputId": "14b1d3a0-b0cd-4f36-dd6d-c9b7b3b2c695"
      },
      "execution_count": 11,
      "outputs": [
        {
          "output_type": "stream",
          "name": "stdout",
          "text": [
            "           Start         End        Open        High         Low       Close  \\\n",
            "0     2025-04-16  2025-04-17  126.359700  133.347800  123.745200  131.628700   \n",
            "1     2025-04-15  2025-04-16  128.982500  134.307000  126.275900  126.275900   \n",
            "2     2025-04-14  2025-04-15  128.393600  135.623400  128.393600  129.396300   \n",
            "3     2025-04-13  2025-04-14  132.457400  133.379400  125.844900  128.508100   \n",
            "4     2025-04-12  2025-04-13  121.244700  133.669200  119.748600  132.219200   \n",
            "...          ...         ...         ...         ...         ...         ...   \n",
            "1820  2020-04-22  2020-04-23    0.574514    0.699509    0.571206    0.682635   \n",
            "1821  2020-04-21  2020-04-22    0.538978    0.602115    0.507988    0.573964   \n",
            "1822  2020-04-20  2020-04-21    0.608310    0.636288    0.522787    0.539100   \n",
            "1823  2020-04-19  2020-04-20    0.674510    0.682019    0.596405    0.603445   \n",
            "1824  2020-04-18  2020-04-19    0.656816    0.720087    0.656780    0.679663   \n",
            "\n",
            "            Volume    Market Cap  \n",
            "0     9.108312e+09  6.581630e+10  \n",
            "1     8.789084e+09  6.719558e+10  \n",
            "2     1.095403e+10  6.792523e+10  \n",
            "3     1.003561e+10  6.701570e+10  \n",
            "4     9.484679e+09  6.524144e+10  \n",
            "...            ...           ...  \n",
            "1820  1.392536e+07  0.000000e+00  \n",
            "1821  8.407789e+06  0.000000e+00  \n",
            "1822  8.982139e+06  0.000000e+00  \n",
            "1823  1.026390e+07  0.000000e+00  \n",
            "1824  9.926508e+06  0.000000e+00  \n",
            "\n",
            "[1825 rows x 8 columns]\n"
          ]
        }
      ]
    },
    {
      "cell_type": "markdown",
      "source": [],
      "metadata": {
        "id": "362KgFD56f0f"
      }
    },
    {
      "cell_type": "code",
      "source": [
        "#if u want first 50 rows\n",
        "# first_50 = df.head(50)\n",
        "# print(first_50)\n",
        "\n",
        "# if you want last 50\n",
        "# last_50 = df.tail(50)\n",
        "# print(last_50)\n",
        "\n",
        "#slicing\n",
        "# print(df[0:100])\n",
        "# print(df[-20:])\n",
        "\n",
        "# print(df['Close'])\n",
        "\n",
        "#this will set it as a variable\n",
        "close_df = df[['Close']]\n",
        "# print(close_df)\n",
        "\n"
      ],
      "metadata": {
        "id": "0hVFO_TA7AAb"
      },
      "execution_count": 19,
      "outputs": []
    },
    {
      "cell_type": "code",
      "source": [
        "# how to access a value out of one column\n",
        "# build a new dataframe based off a condition\n",
        "df_70 = df.loc[df['Close'] <= 70]\n",
        "print(df_70)\n"
      ],
      "metadata": {
        "colab": {
          "base_uri": "https://localhost:8080/"
        },
        "id": "iXWreEkw81dP",
        "outputId": "fb338ae2-9cc0-4a1d-c0d8-884499abb7e1"
      },
      "execution_count": 23,
      "outputs": [
        {
          "output_type": "stream",
          "name": "stdout",
          "text": [
            "           Start         End       Open       High        Low      Close  \\\n",
            "491   2023-12-12  2023-12-13  71.018100  72.315300  66.136400  68.770300   \n",
            "496   2023-12-07  2023-12-08  61.752900  69.238400  61.752900  67.870500   \n",
            "497   2023-12-06  2023-12-07  61.518800  66.402000  61.518800  61.932800   \n",
            "498   2023-12-05  2023-12-06  61.300800  62.332400  59.244800  60.950400   \n",
            "499   2023-12-04  2023-12-05  63.046800  65.183100  60.368900  61.549100   \n",
            "...          ...         ...        ...        ...        ...        ...   \n",
            "1820  2020-04-22  2020-04-23   0.574514   0.699509   0.571206   0.682635   \n",
            "1821  2020-04-21  2020-04-22   0.538978   0.602115   0.507988   0.573964   \n",
            "1822  2020-04-20  2020-04-21   0.608310   0.636288   0.522787   0.539100   \n",
            "1823  2020-04-19  2020-04-20   0.674510   0.682019   0.596405   0.603445   \n",
            "1824  2020-04-18  2020-04-19   0.656816   0.720087   0.656780   0.679663   \n",
            "\n",
            "            Volume    Market Cap  \n",
            "491   5.997655e+09  2.982762e+10  \n",
            "496   5.239261e+09  2.746186e+10  \n",
            "497   5.637848e+09  2.706890e+10  \n",
            "498   3.966743e+09  2.572275e+10  \n",
            "499   3.926505e+09  2.654064e+10  \n",
            "...            ...           ...  \n",
            "1820  1.392536e+07  0.000000e+00  \n",
            "1821  8.407789e+06  0.000000e+00  \n",
            "1822  8.982139e+06  0.000000e+00  \n",
            "1823  1.026390e+07  0.000000e+00  \n",
            "1824  9.926508e+06  0.000000e+00  \n",
            "\n",
            "[1066 rows x 8 columns]\n"
          ]
        }
      ]
    },
    {
      "cell_type": "code",
      "source": [
        "date_of_61 = df.loc[df['Close'] == 61.549100, 'End']. values[0]\n",
        "print(date_of_61)"
      ],
      "metadata": {
        "colab": {
          "base_uri": "https://localhost:8080/"
        },
        "id": "NqnBaMai-CD8",
        "outputId": "b5c1db9b-1207-41b6-e1a9-e85a31dec1aa"
      },
      "execution_count": 25,
      "outputs": [
        {
          "output_type": "stream",
          "name": "stdout",
          "text": [
            "2023-12-05\n"
          ]
        }
      ]
    }
  ]
}